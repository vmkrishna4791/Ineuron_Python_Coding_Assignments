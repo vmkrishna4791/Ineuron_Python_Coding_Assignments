{
 "cells": [
  {
   "cell_type": "code",
   "execution_count": 1,
   "metadata": {},
   "outputs": [
    {
     "name": "stdout",
     "output_type": "stream",
     "text": [
      "Hello Python\n"
     ]
    }
   ],
   "source": [
    "#Write a Python program to print \"Hello Python\"?\n",
    "print (\"Hello Python\")"
   ]
  },
  {
   "cell_type": "code",
   "execution_count": 2,
   "metadata": {},
   "outputs": [
    {
     "name": "stdout",
     "output_type": "stream",
     "text": [
      "5\n",
      "0.6666666666666666\n"
     ]
    }
   ],
   "source": [
    "#Write a Python program to do arithmetical operations addition and division.?\n",
    "a=2\n",
    "b=3\n",
    "print(a+b)\n",
    "print(a/b)"
   ]
  },
  {
   "cell_type": "code",
   "execution_count": 7,
   "metadata": {},
   "outputs": [
    {
     "name": "stdout",
     "output_type": "stream",
     "text": [
      "Enter the base value of the triangle:20\n",
      "Enter the Height value of the triangle:10\n",
      "Area of the triangle =  100.0\n"
     ]
    }
   ],
   "source": [
    "#Write a Python program to find the area of a triangle?\n",
    "base=float (input(\"Enter the base value of the triangle:\"))\n",
    "height = float(input(\"Enter the Height value of the triangle:\"))\n",
    "A = 1/2 * (base * height)\n",
    "print(\"Area of the triangle = \", A)"
   ]
  },
  {
   "cell_type": "code",
   "execution_count": 12,
   "metadata": {},
   "outputs": [
    {
     "name": "stdout",
     "output_type": "stream",
     "text": [
      "Value of a and b: 15 20\n",
      "Value of a and b after swapping: 20 15\n"
     ]
    }
   ],
   "source": [
    "#Write a Python program to swap two variables?\n",
    "a=15\n",
    "b=20\n",
    "print(\"Value of a and b:\", a, b)\n",
    "temp = a\n",
    "a=b\n",
    "b=temp\n",
    "print (\"Value of a and b after swapping:\", a, b)"
   ]
  },
  {
   "cell_type": "code",
   "execution_count": 17,
   "metadata": {},
   "outputs": [
    {
     "name": "stdout",
     "output_type": "stream",
     "text": [
      "86\n"
     ]
    }
   ],
   "source": [
    "#Write a Python program to generate a random number?\n",
    "import random\n",
    "print(random.randrange(1,100))"
   ]
  },
  {
   "cell_type": "code",
   "execution_count": null,
   "metadata": {},
   "outputs": [],
   "source": []
  }
 ],
 "metadata": {
  "kernelspec": {
   "display_name": "Python 3",
   "language": "python",
   "name": "python3"
  },
  "language_info": {
   "codemirror_mode": {
    "name": "ipython",
    "version": 3
   },
   "file_extension": ".py",
   "mimetype": "text/x-python",
   "name": "python",
   "nbconvert_exporter": "python",
   "pygments_lexer": "ipython3",
   "version": "3.8.5"
  }
 },
 "nbformat": 4,
 "nbformat_minor": 4
}
