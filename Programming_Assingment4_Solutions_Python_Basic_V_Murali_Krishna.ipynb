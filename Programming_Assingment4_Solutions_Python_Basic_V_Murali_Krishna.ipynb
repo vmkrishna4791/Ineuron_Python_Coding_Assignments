{
 "cells": [
  {
   "cell_type": "code",
   "execution_count": 24,
   "metadata": {},
   "outputs": [
    {
     "name": "stdout",
     "output_type": "stream",
     "text": [
      "Enter the number:5\n",
      "5 ! = 120\n"
     ]
    }
   ],
   "source": [
    "#Write a Python Program to Find the Factorial of a Number?\n",
    "n = int(input(\"Enter the number:\"))\n",
    "\n",
    "if (n < 0):\n",
    "    print(\"Enter a positive integer\")\n",
    "    \n",
    "if (n==0):\n",
    "    print(n,\"! =\", 1)\n",
    "    \n",
    "if n > 0:\n",
    "    j=1\n",
    "    for i in range(1,n+1):\n",
    "        j = i*j\n",
    "             \n",
    "    print(n,\"! =\",j)"
   ]
  },
  {
   "cell_type": "code",
   "execution_count": 35,
   "metadata": {},
   "outputs": [
    {
     "name": "stdout",
     "output_type": "stream",
     "text": [
      "Enter the number:7\n",
      "\n",
      "\n",
      "Multiplication table for 7 \n",
      "\n",
      "7 x 1 = 7\n",
      "7 x 2 = 14\n",
      "7 x 3 = 21\n",
      "7 x 4 = 28\n",
      "7 x 5 = 35\n",
      "7 x 6 = 42\n",
      "7 x 7 = 49\n",
      "7 x 8 = 56\n",
      "7 x 9 = 63\n",
      "7 x 10 = 70\n"
     ]
    }
   ],
   "source": [
    "#Write a Python Program to Display the multiplication Table?\n",
    "n = int(input(\"Enter the number:\"))\n",
    "print(\"\\n\")\n",
    "\n",
    "if (n < 0 or n==0):\n",
    "    print(\"Enter a positive integer greater than zero\")\n",
    "    \n",
    "if (n > 0):\n",
    "    print(\"Multiplication table for\",n,\"\\n\")\n",
    "    for i in range(1,11):\n",
    "        print (n, \"x\", i,\"=\",n*i)"
   ]
  },
  {
   "cell_type": "code",
   "execution_count": 132,
   "metadata": {},
   "outputs": [
    {
     "name": "stdout",
     "output_type": "stream",
     "text": [
      "Enter how many numbers are required in the fibonacci sequence to be generated: 20\n",
      "\n",
      "\n",
      "0 1 1 2 3 5 8 13 21 34 55 89 144 233 377 610 987 1597 2584 4181 "
     ]
    }
   ],
   "source": [
    "#Write a Python Program to Print the Fibonacci sequence?\n",
    "n = int(input(\"Enter how many numbers are required in the fibonacci sequence to be generated: \"))\n",
    "print(\"\\n\")\n",
    "\n",
    "if (n < 0 or n==0):\n",
    "    print(\"Enter a positive integer greater than zero\")\n",
    "    \n",
    "a=0\n",
    "b=1\n",
    "for i in range(0,n):\n",
    "        print(a,end=\" \")\n",
    "        temp = b\n",
    "        b=a+b\n",
    "        a=temp"
   ]
  },
  {
   "cell_type": "code",
   "execution_count": 131,
   "metadata": {},
   "outputs": [
    {
     "name": "stdout",
     "output_type": "stream",
     "text": [
      "Enter the number:4929273885928088826\n",
      "\n",
      "\n",
      "4929273885928088826 is an Armstrong number\n"
     ]
    }
   ],
   "source": [
    "#Write a Python Program to Find Armstrong Number in an Interval?\n",
    "m = input(\"Enter the number:\")\n",
    "type(m)\n",
    "n=int(m)\n",
    "print(\"\\n\")\n",
    "\n",
    "if (n < 0 or n==0):\n",
    "    print(\"Enter a positive integer greater than zero\")\n",
    "\n",
    "\n",
    "if (n>0):\n",
    "    p=len(m)\n",
    "    \n",
    "    sum = 0\n",
    "    for i in range(0,p):\n",
    "        val=1\n",
    "        temp=int(m[i])\n",
    "        \n",
    "        for j in range(1,p+1):\n",
    "                val=temp*val\n",
    "                \n",
    "        sum = sum + val\n",
    "        \n",
    "    if (n==sum):\n",
    "        print(n, \"is an Armstrong number\")\n",
    "    else:\n",
    "        print(n, \"is not an Armstrong number\")"
   ]
  },
  {
   "cell_type": "code",
   "execution_count": 144,
   "metadata": {},
   "outputs": [
    {
     "name": "stdout",
     "output_type": "stream",
     "text": [
      "Enter the number:20\n",
      "\n",
      "\n",
      "Sum of first 20 natural numbers = 210\n"
     ]
    }
   ],
   "source": [
    "#Write a Python Program to Find the Sum of Natural Numbers?\n",
    "n = int(input(\"Enter the number:\"))\n",
    "print(\"\\n\")\n",
    "\n",
    "if (n < 0 or n==0):\n",
    "    print(\"Enter a positive integer greater than zero\")\n",
    "\n",
    "sum=0\n",
    "if (n>0):\n",
    "    for i in range(1,n+1):\n",
    "        sum=sum+i\n",
    "    print(\"Sum of first {} natural numbers = {}\".format(n,sum))"
   ]
  }
 ],
 "metadata": {
  "kernelspec": {
   "display_name": "Python 3",
   "language": "python",
   "name": "python3"
  },
  "language_info": {
   "codemirror_mode": {
    "name": "ipython",
    "version": 3
   },
   "file_extension": ".py",
   "mimetype": "text/x-python",
   "name": "python",
   "nbconvert_exporter": "python",
   "pygments_lexer": "ipython3",
   "version": "3.8.5"
  }
 },
 "nbformat": 4,
 "nbformat_minor": 4
}
