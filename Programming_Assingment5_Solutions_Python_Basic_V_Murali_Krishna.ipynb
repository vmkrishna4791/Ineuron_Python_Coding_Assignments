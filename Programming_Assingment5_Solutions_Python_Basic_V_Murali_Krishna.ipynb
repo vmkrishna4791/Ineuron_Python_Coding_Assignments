{
 "cells": [
  {
   "cell_type": "code",
   "execution_count": 32,
   "metadata": {},
   "outputs": [
    {
     "name": "stdout",
     "output_type": "stream",
     "text": [
      "Enter two positive non zero integers: 60 75\n",
      "Lcm of 60 and 75 is 300\n"
     ]
    }
   ],
   "source": [
    "#Write a Python Program to Find LCM?\n",
    "a,b=input(\"Enter two positive non zero integers: \").split()\n",
    "a,b=int(a),int(b)\n",
    "temp=max(a,b)\n",
    "\n",
    "while (True):\n",
    "    if (temp%a==0) and (temp%b==0):\n",
    "        print(\"Lcm of {} and {} is {}\".format(a,b,temp))\n",
    "        break\n",
    "    temp = temp+1"
   ]
  },
  {
   "cell_type": "code",
   "execution_count": 36,
   "metadata": {},
   "outputs": [
    {
     "name": "stdout",
     "output_type": "stream",
     "text": [
      "Enter two positive non zero integers:250 750\n",
      "HCF =  250\n"
     ]
    }
   ],
   "source": [
    "#Write a Python Program to Find HCF?\n",
    "a,b=input(\"Enter two positive non zero integers:\").split()\n",
    "a,b=int(a),int(b)\n",
    "if ((a<=1) or (b<=1)):\n",
    "    print(\"Enter two positive integers\"\"\\n\")\n",
    "\n",
    "i=2\n",
    "while ((a>=i) and (b>=i)):\n",
    "        if ((a%i==0) and (b%i==0)):\n",
    "            hcf=i\n",
    "#            print(\"hcf =\",hcf)\n",
    "                       \n",
    "        i=i+1\n",
    "\n",
    "print(\"HCF = \", hcf)"
   ]
  },
  {
   "cell_type": "code",
   "execution_count": 40,
   "metadata": {},
   "outputs": [
    {
     "name": "stdout",
     "output_type": "stream",
     "text": [
      "Enter the Integer value = 75\n",
      "Binary value of 75 = 0b1001011\n",
      "Octal value of 75 = 0o113\n",
      "Hexadecimal value of 75 = 0x4b\n"
     ]
    }
   ],
   "source": [
    "#Write a Python Program to Convert Decimal to Binary, Octal and Hexadecimal?\n",
    "a=int(input(\"Enter the Integer value = \"))\n",
    "print(\"Binary value of\",a,\"=\",bin(a))\n",
    "print(\"Octal value of\",a,\"=\",oct(a))\n",
    "print(\"Hexadecimal value of\",a,\"=\",hex(a))"
   ]
  },
  {
   "cell_type": "code",
   "execution_count": 46,
   "metadata": {},
   "outputs": [
    {
     "name": "stdout",
     "output_type": "stream",
     "text": [
      "Enter a character = C\n",
      "ASCII value of C is 67\n"
     ]
    }
   ],
   "source": [
    "#Write a Python Program To Find ASCII value of a character?\n",
    "a=input(\"Enter a character = \")\n",
    "print(\"ASCII value of {} is {}\". format(a,ord(a)))"
   ]
  },
  {
   "cell_type": "code",
   "execution_count": 47,
   "metadata": {},
   "outputs": [
    {
     "name": "stdout",
     "output_type": "stream",
     "text": [
      "Enter two positive non zero integers: 4 5\n",
      "a + b = 9\n",
      "a - b = -1\n",
      "a x b = 20\n",
      "a / b = 0.8\n"
     ]
    }
   ],
   "source": [
    "#Write a Python Program to Make a Simple Calculator with 4 basic mathematical operations?\n",
    "a,b=input(\"Enter two positive non zero integers: \").split()\n",
    "a,b=int(a),int(b)\n",
    "print(\"a + b =\", a+b)\n",
    "print(\"a - b =\", a-b)\n",
    "print(\"a x b =\", a*b)\n",
    "print(\"a / b =\", a/b)"
   ]
  },
  {
   "cell_type": "code",
   "execution_count": null,
   "metadata": {},
   "outputs": [],
   "source": []
  }
 ],
 "metadata": {
  "kernelspec": {
   "display_name": "Python 3",
   "language": "python",
   "name": "python3"
  },
  "language_info": {
   "codemirror_mode": {
    "name": "ipython",
    "version": 3
   },
   "file_extension": ".py",
   "mimetype": "text/x-python",
   "name": "python",
   "nbconvert_exporter": "python",
   "pygments_lexer": "ipython3",
   "version": "3.8.5"
  }
 },
 "nbformat": 4,
 "nbformat_minor": 4
}
